{
  "nbformat": 4,
  "nbformat_minor": 0,
  "metadata": {
    "colab": {
      "name": "Jet_simple_VQC.ipynb",
      "provenance": [],
      "collapsed_sections": []
    },
    "kernelspec": {
      "display_name": "Python 3",
      "name": "python3",
      "language": "python"
    }
  },
  "cells": [
    {
      "source": [
        "### Version:\n",
        "2021/02/09\n",
        "- training with four features of a jet: [pt, mass, deltaeta, deltaphi]\n",
        "- test iris data\n",
        "- using data from YC, Chen (VQC_TJET_4VAR...)\n",
        "\n",
        "2021/02/14\n",
        "- use Threshold=64, 9P_7J : acc 0.5->0.5\n",
        "\n",
        "2021/02/17\n",
        "- use Threshold=64, 7P_7J_7C : acc 0.5->0.5"
      ],
      "cell_type": "markdown",
      "metadata": {}
    },
    {
      "source": [
        "# Simple Variational Quantum Classifier On Jet model"
      ],
      "cell_type": "markdown",
      "metadata": {}
    },
    {
      "source": [
        "### Packages and data loading\n",
        "\n",
        "1. Need to modify the \"path\" to run on Google Colab.\n",
        "2. Set random seed (0) to reproduce the result.\n",
        "3. Can load Iris data to see the performance of the model."
      ],
      "cell_type": "markdown",
      "metadata": {}
    },
    {
      "cell_type": "code",
      "metadata": {
        "id": "jhLRZAdb4qBc"
      },
      "source": [
        "# !pip install pennylane autograd # install package for Google Colab\n",
        "\n",
        "import os\n",
        "import pennylane as qml\n",
        "import numpy as np\n",
        "import torch\n",
        "from torch.autograd import Variable\n",
        "import torch.optim as optim\n",
        "import matplotlib.pyplot as plt\n",
        "np.random.seed(42)\n",
        "\n",
        "'''\n",
        "comment the first line and\n",
        "uncomment the others to run on Google Colab\n",
        "'''\n",
        "path = os.getcwd()+\"/jet_data\" # path for local\n",
        "# path = \"/content/drive/MyDrive/QML_project/jet_data\" # path for Google Colab\n",
        "# qml.about()\n",
        "# from google.colab import drive\n",
        "# drive.mount('/content/drive')"
      ],
      "execution_count": null,
      "outputs": []
    },
    {
      "cell_type": "code",
      "metadata": {
        "id": "nIDd4TagKLcn"
      },
      "source": [
        "def load_TJET_4var_data():\n",
        "    print(\"-\"*20)\n",
        "    print(\"Start Loading data ...\")\n",
        "    x_train = torch.tensor(np.load(path+\"/VQC_TJET_4VAR_NO_TENSOR_X_train.npy\"))\n",
        "    y_train = torch.tensor(np.load(path+\"/VQC_TJET_4VAR_NO_TENSOR_Y_train.npy\"))\n",
        "    x_test = torch.tensor(np.load(path+\"/VQC_TJET_4VAR_NO_TENSOR_X_test.npy\"))\n",
        "    y_test = torch.tensor(np.load(path+\"/VQC_TJET_4VAR_NO_TENSOR_Y_test.npy\"))\n",
        "\n",
        "    # Since y is {0,1} Change to {-1,1}\n",
        "    y_train = 2*y_train-1\n",
        "    y_val = 2*y_val-1\n",
        "    y_test = 2*y_test-1\n",
        "\n",
        "    # random choose part of train\n",
        "    num_train = x_train.shape[0]\n",
        "    random_pick = np.random.permutation(range(num_train))[:3000]\n",
        "    x_train = x_train[random_pick]\n",
        "    y_train = y_train[random_pick]\n",
        "\n",
        "    print(f\"x_train shape : {x_train.shape}\")\n",
        "    print(f\"y_train shape : {y_train.shape}\")\n",
        "    print(f\"x_test shape : {x_test.shape}\")\n",
        "    print(f\"y_test shape : {y_test.shape}\")\n",
        "    return x_train, y_train, x_test, y_test\n",
        "\n",
        "def load_iris():\n",
        "    print(\"-\"*20)\n",
        "    print(\"Start Loading data ...\")\n",
        "    iris_data = np.load(path+\"/iris.npy\")\n",
        "    x = torch.tensor(iris_data[:, :-1])\n",
        "    y = torch.tensor(iris_data[:, -1])\n",
        "    # select train and test\n",
        "    random_pick = np.random.permutation(range(x.shape[0]))\n",
        "    num_train = int(0.75*x.shape[0])\n",
        "    x, y = x[random_pick], y[random_pick]\n",
        "    x_train, x_test = x[:num_train], x[num_train:]\n",
        "    y_train, y_test = y[:num_train], y[num_train:]\n",
        "    x_train, x_test = torch.tensor(x_train), torch.tensor(x_test)\n",
        "    y_train, y_test = torch.tensor(y_train), torch.tensor(y_test)\n",
        "    print(f\"x_train shape : {x_train.shape}\")\n",
        "    print(f\"y_train shape : {y_train.shape}\")\n",
        "    print(f\"x_test shape : {x_test.shape}\")\n",
        "    print(f\"y_test shape : {y_test.shape}\")\n",
        "    return x_train, y_train, x_test, y_test\n",
        "\n",
        "def load_jet_16var_9p_7j():\n",
        "    print(\"-\"*20)\n",
        "    print(\"Start Loading data ...\")\n",
        "    # load signal and background data\n",
        "    sig_data = np.load(path+\"/QML_VQC_Thres64_Feat16_9P_7J_fatjet_w.npy\")\n",
        "    bkg_data = np.load(path+\"/QML_VQC_Thres64_Feat16_9P_7J_fatjet_q.npy\")\n",
        "    # reshape from N * 64 * 16 to N * 1024\n",
        "    sig_data = np.array([single_jet.reshape(-1,1).squeeze() for single_jet in sig_data])\n",
        "    bkg_data = np.array([single_jet.reshape(-1,1).squeeze() for single_jet in bkg_data])\n",
        "    # random split into train and test\n",
        "    split_size = int(0.75*sig_data.shape[0])\n",
        "    sig_train, sig_test = sig_data[:split_size], sig_data[split_size:]\n",
        "    bkg_train, bkg_test = bkg_data[:split_size], bkg_data[split_size:]\n",
        "    # combine together to x, y\n",
        "    x_train = np.r_[sig_train, bkg_train]\n",
        "    y_train = np.r_[np.ones(sig_train.shape[0]), -np.ones(bkg_train.shape[0])]\n",
        "    x_test  = np.r_[sig_test, bkg_test]\n",
        "    y_test  = np.r_[np.ones(sig_test.shape[0]), -np.ones(bkg_test.shape[0])]\n",
        "    # shuffle\n",
        "    shuffle_train, shuffle_test = np.random.permutation(y_train.shape[0]), np.random.permutation(y_test.shape[0])\n",
        "    # transform into torch tensor\n",
        "    x_train, y_train = torch.tensor(x_train[shuffle_train]), torch.tensor(y_train[shuffle_train])\n",
        "    x_test,  y_test  = torch.tensor(x_test[shuffle_test]),  torch.tensor(y_test[shuffle_test])\n",
        "    print(f\"x_train shape : {x_train.shape}\")\n",
        "    print(f\"y_train shape : {y_train.shape}\")\n",
        "    print(f\"x_test shape : {x_test.shape}\")\n",
        "    print(f\"y_test shape : {y_test.shape}\")\n",
        "    return x_train, y_train, x_test, y_test\n",
        "\n",
        "def load_jet_16var_7p_7j_2c(norm_const=True, norm_num=1):\n",
        "    print(\"-\"*20)\n",
        "    print(\"Start Loading data ...\")\n",
        "    # load signal and background data\n",
        "    sig_data = np.load(path+\"/QML_VQC_Thres64_Feat16_7P_7J_2C_fatjet_w.npy\")\n",
        "    bkg_data = np.load(path+\"/QML_VQC_Thres64_Feat16_7P_7J_2C_fatjet_q.npy\")\n",
        "    # add norm const\n",
        "    if norm_const:\n",
        "        num_data = sig_data.shape[0]\n",
        "        for i in range(num_data):\n",
        "            # shape = (num_data, 64, 16) with last two features is 0\n",
        "            for j in range(64):\n",
        "                if norm_num == 1:\n",
        "                    sig_data[i][j][-2] = 1.\n",
        "                    bkg_data[i][j][-2] = 1.\n",
        "                elif norm_num == 2:\n",
        "                    sig_data[i][j][-2:] = np.ones(2)\n",
        "                    bkg_data[i][j][-2:] = np.ones(2)\n",
        "    # reshape from N * 64 * 16 to N * 1024\n",
        "    sig_data = np.array([single_jet.reshape(-1,1).squeeze() for single_jet in sig_data])\n",
        "    bkg_data = np.array([single_jet.reshape(-1,1).squeeze() for single_jet in bkg_data])\n",
        "    # random split into train and test\n",
        "    split_size = int(0.75*sig_data.shape[0])\n",
        "    sig_train, sig_test = sig_data[:split_size], sig_data[split_size:]\n",
        "    bkg_train, bkg_test = bkg_data[:split_size], bkg_data[split_size:]\n",
        "    # combine together to x, y\n",
        "    x_train = np.r_[sig_train, bkg_train]\n",
        "    y_train = np.r_[np.ones(sig_train.shape[0]), -np.ones(bkg_train.shape[0])]\n",
        "    x_test  = np.r_[sig_test, bkg_test]\n",
        "    y_test  = np.r_[np.ones(sig_test.shape[0]), -np.ones(bkg_test.shape[0])]\n",
        "    # shuffle\n",
        "    shuffle_train, shuffle_test = np.random.permutation(y_train.shape[0]), np.random.permutation(y_test.shape[0])\n",
        "    # transform into torch tensor\n",
        "    x_train, y_train = torch.tensor(x_train[shuffle_train]), torch.tensor(y_train[shuffle_train])\n",
        "    x_test,  y_test  = torch.tensor(x_test[shuffle_test]),  torch.tensor(y_test[shuffle_test])\n",
        "    print(f\"x_train shape : {x_train.shape}\")\n",
        "    print(f\"y_train shape : {y_train.shape}\")\n",
        "    print(f\"x_test shape : {x_test.shape}\")\n",
        "    print(f\"y_test shape : {y_test.shape}\")\n",
        "    return x_train, y_train, x_test, y_test"
      ],
      "execution_count": null,
      "outputs": []
    },
    {
      "source": [
        "### VQC Circuit\n",
        "\n",
        "The circuit define in this Simple VQC Model contains only layers, each layers contains only rotation gates and CNOT-gates.\n",
        "\n",
        "<img src=\"meeting/20210209_Simple_VQC_model/my_circuit.png\">"
      ],
      "cell_type": "markdown",
      "metadata": {}
    },
    {
      "cell_type": "code",
      "execution_count": null,
      "metadata": {},
      "outputs": [],
      "source": [
        "def variational_classifier(qnodes, params, feat):\n",
        "    return qnodes(params[0], feat) + params[1]\n",
        "\n",
        "def layer(W):\n",
        "    for i in range(num_qubits):\n",
        "        qml.Rot(W[i, 0], W[i, 1], W[i, 2], wires=i)\n",
        "    for j in range(num_qubits - 1):\n",
        "        qml.CNOT(wires=[j, j + 1])\n",
        "    if num_qubits >= 2:\n",
        "        # Apply additional CNOT to entangle the last with the first qubit\n",
        "        qml.CNOT(wires=[num_qubits - 1, 0])\n",
        "\n",
        "def circuit(weights, feat):\n",
        "    qml.templates.embeddings.AmplitudeEmbedding(feat, range(num_qubits), pad_with=0.0, normalize=True)\n",
        "    for W in weights:\n",
        "        layer(W)\n",
        "    return qml.expval(qml.PauliZ(0))\n",
        "\n",
        "def cost(qnodes, params, features, labels):\n",
        "    loss = 0\n",
        "    for i in range(len(labels)):\n",
        "        loss += (variational_classifier(qnodes, params, features[i])-labels[i])**2\n",
        "    loss = loss/len(labels)\n",
        "    return loss\n",
        "\n",
        "def accuracy(labels, hard_predictions):\n",
        "    loss = 0\n",
        "    for l, p in zip(labels, hard_predictions):\n",
        "        if torch.abs(l - p) < 1e-5:\n",
        "            loss = loss + 1\n",
        "    loss = loss / labels.shape[0]\n",
        "    return loss"
      ]
    },
    {
      "source": [
        "### Start training\n",
        "\n",
        "In this code, we set batch size with 10 and 60 epochs.\n",
        "\n",
        "In order to run on pytorch, we need to set up Q-Node."
      ],
      "cell_type": "markdown",
      "metadata": {}
    },
    {
      "cell_type": "code",
      "metadata": {
        "id": "cNB8H1_5ezUg"
      },
      "source": [
        "num_qubits = 0\n",
        "\n",
        "def training(data, batch_size=10, total_iterations=60, num_layers=6):\n",
        "    # datas\n",
        "    x_train, y_train = data[0], data[1]\n",
        "    x_test, y_test = data[2], data[3]\n",
        "\n",
        "    # setup quantum computer parameters\n",
        "    global num_qubits\n",
        "    num_qubits = int(np.ceil(np.log2(x_train.shape[1])))\n",
        "    print(f\"qubits : {num_qubits} , layers : {num_layers}\")\n",
        "    dev = qml.device(\"default.qubit\", wires=num_qubits)\n",
        "    qnodes = qml.QNode(circuit, dev, interface=\"torch\")\n",
        "\n",
        "    # optimization setup\n",
        "    lr_adam = 0.01\n",
        "    num_train = x_train.shape[0]\n",
        "    weights = Variable(0.1 * torch.randn(num_layers, num_qubits, 3), requires_grad=True)\n",
        "    bias = Variable(0.1 * torch.ones(1), requires_grad=True)\n",
        "    params = (weights, bias)\n",
        "    optimizer = optim.Adam(params, lr=lr_adam)\n",
        "\n",
        "    # record all the result\n",
        "    cost_list, acc_train_list, acc_test_list, params_list = [], [], [], []\n",
        "\n",
        "    #start optimization\n",
        "    for it in range(total_iterations):\n",
        "        batch_index = np.random.randint(0, num_train, (batch_size,))\n",
        "        x_train_batch = x_train[batch_index]\n",
        "        y_train_batch = y_train[batch_index]\n",
        "\n",
        "        print(\"-\"*20)\n",
        "        print(\"Optimizing ...\")\n",
        "        optimizer.zero_grad()\n",
        "        curr_cost = cost(qnodes,params, x_train_batch, y_train_batch)\n",
        "        print(\"Backward ...\")\n",
        "        curr_cost.backward()\n",
        "        optimizer.step()\n",
        "\n",
        "        # Compute predictions on train and validation set\n",
        "        print(\"Predicting ...\")\n",
        "        predictions_train = np.sign([variational_classifier(qnodes, params, feat) for feat in x_train])\n",
        "        predictions_test = np.sign([variational_classifier(qnodes, params, feat) for feat in x_test])\n",
        "        acc_train, acc_test = accuracy(y_train, predictions_train), accuracy(y_test, predictions_test)\n",
        "        cost_list.append(curr_cost.item())\n",
        "        acc_train_list.append(acc_train)\n",
        "        acc_test_list.append(acc_test)\n",
        "        params_list.append(params)\n",
        "        print(f\"Iter: {it+1:5d} | Cost: {curr_cost.item():0.7f} | Acc train: {acc_train:0.7f} | Acc test: {acc_test:0.7f}\")\n",
        "    print(\"Training Finished ...\")\n",
        "    return_dic = {\"cost\":cost_list, \"acc_train\":acc_train_list, \"acc_test\":acc_test_list,\n",
        "                  \"params\":params_list, \"iterations\":total_iterations, \"batch\":batch_size,\n",
        "                  \"train_size\":(x_train.shape, y_train.shape), \"test_size\":(x_test.shape, y_test.shape)}\n",
        "    return return_dic"
      ],
      "execution_count": null,
      "outputs": []
    },
    {
      "cell_type": "code",
      "execution_count": null,
      "metadata": {},
      "outputs": [],
      "source": [
        "iris_result = training(load_iris(), batch_size=10, total_iterations=60)"
      ]
    },
    {
      "cell_type": "code",
      "metadata": {
        "colab": {
          "base_uri": "https://localhost:8080/",
          "height": 306
        },
        "id": "hIYKxpt6XOex",
        "outputId": "ee21f5e9-b258-4ddb-c3cf-a76f327ab1be"
      },
      "source": [
        "# plot iris data\n",
        "\n",
        "fig = plt.figure()\n",
        "fig.set_facecolor('white')\n",
        "plt.plot(range(iris_result[\"iterations\"]), iris_result[\"acc_train\"], lw=5, alpha=0.5, label=\"Train\")\n",
        "plt.plot(range(iris_result[\"iterations\"]), iris_result[\"acc_test\"], lw=5, alpha=0.5, label=\"Test\")\n",
        "plt.xlabel(\"Epoch\", fontsize='x-large')\n",
        "plt.ylabel(\"Accuracy\", fontsize=\"x-large\")\n",
        "\n",
        "plt.grid()\n",
        "plt.xticks(fontsize='large')\n",
        "plt.yticks(fontsize='large')\n",
        "plt.legend(fontsize='x-large')\n",
        "plt.title('Iris-data with 2 qubits and 6 layers', fontsize='xx-large')\n",
        "plt.show()"
      ],
      "execution_count": null,
      "outputs": []
    },
    {
      "cell_type": "code",
      "metadata": {
        "id": "Ix_oKzOlm6VJ"
      },
      "source": [
        "TJET_4Var = training(load_TJET_4var_data(), batch_size=50, total_iterations=60)"
      ],
      "execution_count": null,
      "outputs": []
    },
    {
      "cell_type": "code",
      "metadata": {
        "colab": {
          "base_uri": "https://localhost:8080/",
          "height": 306
        },
        "id": "oTq6joB6arnh",
        "outputId": "40cb7a6f-4a45-49d7-8d26-280c96db09c2"
      },
      "source": [
        "# plot TJet data\n",
        "\n",
        "fig = plt.figure()\n",
        "fig.set_facecolor('white')\n",
        "plt.plot(range(TJET_4Var[\"iterations\"]), TJET_4Var[\"acc_train\"], lw=5, alpha=0.5, label=\"Train\")\n",
        "plt.plot(range(TJET_4Var[\"iterations\"]), TJET_4Var[\"acc_test\"], lw=5, alpha=0.5, label=\"Test\")\n",
        "plt.xlabel(\"Epoch\", fontsize='x-large')\n",
        "plt.ylabel(\"Accuracy\", fontsize=\"x-large\")\n",
        "\n",
        "plt.grid()\n",
        "plt.xticks(fontsize='large')\n",
        "plt.yticks(fontsize='large')\n",
        "plt.legend(fontsize='x-large')\n",
        "# plt.ylim(0.5,1)\n",
        "plt.title('TJet_4Var with 2 qubits and 6 layers', fontsize='xx-large')\n",
        "plt.show()"
      ],
      "execution_count": null,
      "outputs": []
    },
    {
      "cell_type": "code",
      "metadata": {
        "id": "Q_QKeu1alck0"
      },
      "source": [
        "# jet_16var_9p_7j_result = training(load_jet_16var_9p_7j(), batch_size=10, total_iterations=60, num_layers=10)\n",
        "\n",
        "jet_16var_7p_7j_7c_result = training(load_jet_16var_7p_7j_2c(norm_const=True, norm_num=1), batch_size=10, total_iterations=60, num_layers=10)"
      ],
      "execution_count": null,
      "outputs": []
    },
    {
      "cell_type": "code",
      "execution_count": null,
      "metadata": {},
      "outputs": [],
      "source": []
    }
  ]
}