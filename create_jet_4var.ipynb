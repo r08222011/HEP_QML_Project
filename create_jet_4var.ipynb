{
 "metadata": {
  "language_info": {
   "codemirror_mode": {
    "name": "ipython",
    "version": 3
   },
   "file_extension": ".py",
   "mimetype": "text/x-python",
   "name": "python",
   "nbconvert_exporter": "python",
   "pygments_lexer": "ipython3",
   "version": 3
  },
  "orig_nbformat": 2
 },
 "nbformat": 4,
 "nbformat_minor": 2,
 "cells": [
  {
   "source": [
    "### Version:\n",
    "2021/02/09\n",
    "- choose 4-features : pt, mass, deltaeta, deltaphi"
   ],
   "cell_type": "markdown",
   "metadata": {}
  },
  {
   "source": [
    "# Get 4 features from a jet\n",
    "\n",
    "This code tends to select four features from per jet data."
   ],
   "cell_type": "markdown",
   "metadata": {}
  },
  {
   "cell_type": "code",
   "execution_count": null,
   "metadata": {},
   "outputs": [],
   "source": [
    "import os, gzip\n",
    "import numpy as np\n",
    "\n",
    "def read_data(filename):\n",
    "    # open the data file (txt.gz)\n",
    "    path = os.path.join(os.path.dirname(__file__), \"jet_data/\"+filename)\n",
    "    fin  = gzip.open(path)\n",
    "\n",
    "    # function for select out a paragraph\n",
    "    end_of_data = False\n",
    "\n",
    "    def get_paragraph():\n",
    "        nonlocal end_of_data\n",
    "        paragraph = []\n",
    "        \n",
    "        # check data\n",
    "        line = fin.readline().decode()\n",
    "        if '<jet_data>' not in line:\n",
    "            end_of_data = True\n",
    "            return \"NULL\"\n",
    "        else:\n",
    "            paragraph.append(line)\n",
    "\n",
    "        # readline of data\n",
    "        while True:\n",
    "            line = fin.readline().decode()\n",
    "            paragraph.append(line)\n",
    "            if '</jet_data>' in line:\n",
    "                break\n",
    "        \n",
    "        return paragraph\n",
    "\n",
    "    # read all lines of data\n",
    "    data = []\n",
    "    while not end_of_data:\n",
    "        data.append(get_paragraph())\n",
    "\n",
    "    # close the data file\n",
    "    fin.close()\n",
    "\n",
    "    return data\n",
    "\n",
    "def select_data(input_data):\n",
    "    # data feature dictionary\n",
    "    feature_type = {\"jet_kinematics\":1}\n",
    "    feature_name = {\n",
    "        \"index\":0, # int\n",
    "        \"pt\":1, # float\n",
    "        \"eta\":2, # float\n",
    "        \"phi\":3, # float\n",
    "        \"mass\":4, # float\n",
    "        \"deltaeta\":5, # float\n",
    "        \"deltaphi\":6, # float\n",
    "        \"charge\":7, # int\n",
    "        \"ehadovereem\":8, # float\n",
    "        \"ncharged\":9, # int\n",
    "        \"nneutrals\":10 # int\n",
    "        }\n",
    "\n",
    "    # select four features\n",
    "    output_data = []\n",
    "    for d in input_data:\n",
    "        dd = d[feature_type[\"jet_kinematics\"]].split()\n",
    "        ddd = []\n",
    "        ddd.append(float(dd[feature_name[\"pt\"]]))\n",
    "        ddd.append(float(dd[feature_name[\"mass\"]]))\n",
    "        ddd.append(float(dd[feature_name[\"deltaeta\"]]))\n",
    "        ddd.append(float(dd[feature_name[\"deltaphi\"]]))\n",
    "        output_data.append(ddd)\n",
    "    return output_data"
   ]
  },
  {
   "source": [
    "## Save to npy"
   ],
   "cell_type": "markdown",
   "metadata": {}
  },
  {
   "cell_type": "code",
   "execution_count": null,
   "metadata": {},
   "outputs": [],
   "source": [
    "# target file\n",
    "SRC_SIG = {'filename':'fatjet_w_match_vz_to_ww.txt.gz'}\n",
    "SRC_BKG = {'filename':'fatjet_q_match_vz_to_qq.txt.gz'}\n",
    "\n",
    "# read data from file\n",
    "print(\"start reading data ...\")\n",
    "w_data = read_data(SRC_SIG['filename']) # len(w_data) = 100,001 with 1 NULL\n",
    "q_data = read_data(SRC_BKG['filename']) # len(q_data) = 100,001 with 1 NULL\n",
    "w_data = w_data[:-1]\n",
    "q_data = q_data[:-1]\n",
    "\n",
    "# choose four features\n",
    "print(\"data selecting ...\")\n",
    "w_data = np.array(select_data(w_data), dtype=\"float64\")\n",
    "q_data = np.array(select_data(q_data), dtype=\"float64\")\n",
    "\n",
    "# save to npy\n",
    "print(\"data saving ...\")\n",
    "np.save(os.path.join(os.getcwd(), \"jet_data/4_var_w.npy\"), w_data)\n",
    "np.save(os.path.join(os.getcwd(), \"jet_data/4_var_q.npy\"), q_data)\n",
    "print(\"successfully saved ...\")"
   ]
  }
 ]
}